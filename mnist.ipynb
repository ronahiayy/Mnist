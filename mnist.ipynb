{
 "cells": [
  {
   "cell_type": "code",
   "execution_count": null,
   "metadata": {},
   "outputs": [],
   "source": [
    "\n",
    "\n",
    "from tensorflow.examples.tutorials.mnist import input_data\n",
    "\n",
    "# Downloading MNIS dataset\n",
    "mnist_train = input_data.read_data_sets(\"data/\", one_hot=True)\n",
    "\n",
    "import tensorflow as tf\n",
    "\n",
    "batch = 100\n",
    "learning_rate = 0.01\n",
    "training_epochs = 10\n",
    "\n",
    "# matrix\n",
    "x = tf.placeholder(tf.float32, shape=[None, 784])\n",
    "yt = tf.placeholder(tf.float32, shape=[None, 10])\n",
    "\n",
    "# Weight\n",
    "Weight = tf.Variable(tf.zeros([784, 10]))\n",
    "bias = tf.Variable(tf.zeros([10]))\n",
    "\n",
    "# model\n",
    "y = tf.nn.softmax(tf.matmul(x,Weight) + bias)\n",
    "\n",
    "# entropy\n",
    "cross_ent = tf.reduce_mean(-tf.reduce_sum(yt * tf.log(y), reduction_indices=[1]))\n",
    "\n",
    "# Prediction\n",
    "correct_pred = tf.equal(tf.argmax(y,1), tf.argmax(yt,1))\n",
    "accuracy = tf.reduce_mean(tf.cast(correct_pred, tf.float32))\n",
    "\n",
    "# Gradient Descent \n",
    "train_optimizer = tf.train.GradientDescentOptimizer(learning_rate).minimize(cross_ent)\n",
    "\n",
    "\n",
    "with tf.Session() as sess:\n",
    "    sess.run(tf.initialize_all_variables())\n",
    "\n",
    "# Batch Processing\n",
    "    for epoch in range(training_epochs):\n",
    "        batch_num = int(mnist_train.train.num_examples / batch)\n",
    "        for i in range(batch_num):\n",
    "            batch_x, batch_y = mnist_train.train.next_batch(batch)\n",
    "    \n",
    "    \n",
    "    sess.run([train_optimizer], result={x: batch_x, yt: batch_y})\n",
    "    \n",
    "    \n",
    "    if epoch % 2 == 0:\n",
    "        print( \"Epoch: \", epoch)\n",
    "        print (\"Accuracy: \", accuracy.eval(result={x: mnist_train.test.images, yt: mnist_train.test.labels}))\n",
    "        print( \"Complete\")"
   ]
  },
  {
   "cell_type": "code",
   "execution_count": null,
   "metadata": {},
   "outputs": [],
   "source": [
    "\n"
   ]
  },
  {
   "cell_type": "code",
   "execution_count": null,
   "metadata": {},
   "outputs": [],
   "source": []
  },
  {
   "cell_type": "code",
   "execution_count": null,
   "metadata": {},
   "outputs": [],
   "source": [
    "\n",
    "\n"
   ]
  },
  {
   "cell_type": "code",
   "execution_count": null,
   "metadata": {},
   "outputs": [],
   "source": []
  },
  {
   "cell_type": "code",
   "execution_count": null,
   "metadata": {},
   "outputs": [],
   "source": []
  }
 ],
 "metadata": {
  "kernelspec": {
   "display_name": "Python 3",
   "language": "python",
   "name": "python3"
  },
  "language_info": {
   "codemirror_mode": {
    "name": "ipython",
    "version": 3
   },
   "file_extension": ".py",
   "mimetype": "text/x-python",
   "name": "python",
   "nbconvert_exporter": "python",
   "pygments_lexer": "ipython3",
   "version": "3.7.6"
  }
 },
 "nbformat": 4,
 "nbformat_minor": 4
}
